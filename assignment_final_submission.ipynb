{
 "cells": [
  {
   "cell_type": "code",
   "execution_count": 133,
   "metadata": {},
   "outputs": [],
   "source": [
    "#importing pandas and matplotlib \n",
    "import pandas as pd\n",
    "import matplotlib.pyplot as plt\n",
    "import seaborn as sns\n",
    "\n",
    "#setting the options on pandas number formatting and display\n",
    "pd.options.display.float_format = '{:.2f}'.format\n",
    "pd.set_option('display.max_row', 700)"
   ]
  },
  {
   "cell_type": "code",
   "execution_count": 134,
   "metadata": {},
   "outputs": [
    {
     "name": "stdout",
     "output_type": "stream",
     "text": [
      "Number of unique companies in rounds2:  66370\n"
     ]
    }
   ],
   "source": [
    "#loading rounds2.csv and checking the number of unique companies in rounds2\n",
    "rounds2 = pd.read_csv(\"rounds2.csv\", encoding = 'ISO-8859-1')\n",
    "rounds2[\"company_permalink\"] = rounds2[\"company_permalink\"].str.lower()\n",
    "\n",
    "unique_companies_rounds2 = rounds2['company_permalink'].nunique(dropna = True)\n",
    "print(\"Number of unique companies in rounds2: \", unique_companies_rounds2)"
   ]
  },
  {
   "cell_type": "code",
   "execution_count": 135,
   "metadata": {},
   "outputs": [
    {
     "name": "stdout",
     "output_type": "stream",
     "text": [
      "Number of unique companies in companies:  66368\n"
     ]
    }
   ],
   "source": [
    "#loading companies.txt and checking the number of unique companies in companies\n",
    "companies = pd.read_csv('companies.txt', delimiter=\"\\t\",encoding = 'ISO-8859-1')\n",
    "companies[\"permalink\"] = companies[\"permalink\"].str.lower()\n",
    "\n",
    "unique_companies = companies['permalink'].nunique(dropna = True)\n",
    "print(\"Number of unique companies in companies: \", unique_companies)"
   ]
  },
  {
   "cell_type": "code",
   "execution_count": 136,
   "metadata": {},
   "outputs": [
    {
     "data": {
      "text/plain": [
       "(114942, 16)"
      ]
     },
     "execution_count": 136,
     "metadata": {},
     "output_type": "execute_result"
    }
   ],
   "source": [
    "#merging the two datasets\n",
    "#we use inner join to have list of common companies between the 2 datasets. If we use left join, our merged dataset \n",
    "#will have companies with empty values of country_code, category_list etc. which will not be beneficial \n",
    "#for our analysis going forward\n",
    "\n",
    "master_frame = rounds2.merge(companies, how='inner', left_on='company_permalink', right_on='permalink')\n",
    "master_frame.shape"
   ]
  },
  {
   "cell_type": "code",
   "execution_count": 137,
   "metadata": {},
   "outputs": [
    {
     "data": {
      "text/plain": [
       "0"
      ]
     },
     "execution_count": 137,
     "metadata": {},
     "output_type": "execute_result"
    }
   ],
   "source": [
    "#Cleaning the dataset\n",
    "\n",
    "#Removing null values from raised_amount_usd\n",
    "master_frame = master_frame[pd.notnull(master_frame['raised_amount_usd'])]\n",
    "\n",
    "#check if there are any null values\n",
    "master_frame['raised_amount_usd'].isnull().values.sum()"
   ]
  },
  {
   "cell_type": "code",
   "execution_count": 138,
   "metadata": {},
   "outputs": [
    {
     "name": "stdout",
     "output_type": "stream",
     "text": [
      "Total count of investments:  94958\n",
      "Total count of venture investments:  50228\n",
      "Total count of angel investments:  4860\n",
      "Total count of seed investments:  23602\n",
      "Total count of pe investments:  1936\n",
      "Representative value of venture investments:  11748949.0\n",
      "Representative value of angel investments:  958694.0\n",
      "Representative value of seed investments:  719780.0\n",
      "Representative value of private equity investments:  73308593.0\n"
     ]
    }
   ],
   "source": [
    "#Calculate the most representative value of the investment amount for each of the four funding types \n",
    "#(venture, angel, seed, and private equity) \n",
    "\n",
    "\n",
    "#calculating the count of investments by funding type.\n",
    "totalInvCount = master_frame[['funding_round_type']].count()\n",
    "ventureInvCount = master_frame[['funding_round_type']][master_frame.funding_round_type == 'venture'].count()\n",
    "angelInvCount = master_frame[['funding_round_type']][master_frame.funding_round_type == 'angel'].count()\n",
    "seedInvCount = master_frame[['funding_round_type']][master_frame.funding_round_type == 'seed'].count()\n",
    "peInvCount = master_frame[['funding_round_type']][master_frame.funding_round_type == 'private_equity'].count()\n",
    "\n",
    "#calculating the representative value of investment by type of funding\n",
    "ventureAvg = master_frame[master_frame['funding_round_type'] == \"venture\"][[\"raised_amount_usd\"]].mean().round()\n",
    "angelAvg = master_frame[master_frame['funding_round_type'] == \"angel\"][[\"raised_amount_usd\"]].mean().round()\n",
    "seedAvg = master_frame[master_frame['funding_round_type'] == \"seed\"][[\"raised_amount_usd\"]].mean().round()\n",
    "peAvg = master_frame[master_frame['funding_round_type'] == \"private_equity\"][[\"raised_amount_usd\"]].mean().round()\n",
    "\n",
    "print(\"Total count of investments: \", totalInvCount[0])\n",
    "print(\"Total count of venture investments: \", ventureInvCount[0])\n",
    "print(\"Total count of angel investments: \", angelInvCount[0])\n",
    "print(\"Total count of seed investments: \", seedInvCount[0])\n",
    "print(\"Total count of pe investments: \", peInvCount[0])\n",
    "\n",
    "print(\"Representative value of venture investments: \", ventureAvg[0])\n",
    "print(\"Representative value of angel investments: \", angelAvg[0])\n",
    "print(\"Representative value of seed investments: \", seedAvg[0])\n",
    "print(\"Representative value of private equity investments: \", peAvg[0])\n",
    "\n"
   ]
  },
  {
   "cell_type": "code",
   "execution_count": 139,
   "metadata": {},
   "outputs": [],
   "source": [
    "#From the above analysis, it seems that \"venture\" is the most suitable investment type for Spark Funds. \n",
    "#This is due to following reason\n",
    "\n",
    "#1. Investments in venture fall beween the USD 5-15mn range specified by Spark Funds"
   ]
  },
  {
   "cell_type": "code",
   "execution_count": 140,
   "metadata": {},
   "outputs": [],
   "source": [
    "#Filtering the dataset for \"venture\" investment type\n",
    "master_frame = master_frame[master_frame.funding_round_type == 'venture']"
   ]
  },
  {
   "cell_type": "code",
   "execution_count": 141,
   "metadata": {},
   "outputs": [
    {
     "data": {
      "text/html": [
       "<div>\n",
       "<style scoped>\n",
       "    .dataframe tbody tr th:only-of-type {\n",
       "        vertical-align: middle;\n",
       "    }\n",
       "\n",
       "    .dataframe tbody tr th {\n",
       "        vertical-align: top;\n",
       "    }\n",
       "\n",
       "    .dataframe thead th {\n",
       "        text-align: right;\n",
       "    }\n",
       "</style>\n",
       "<table border=\"1\" class=\"dataframe\">\n",
       "  <thead>\n",
       "    <tr style=\"text-align: right;\">\n",
       "      <th></th>\n",
       "      <th>raised_amount_usd</th>\n",
       "    </tr>\n",
       "    <tr>\n",
       "      <th>country_code</th>\n",
       "      <th></th>\n",
       "    </tr>\n",
       "  </thead>\n",
       "  <tbody>\n",
       "    <tr>\n",
       "      <td>USA</td>\n",
       "      <td>422510842796.00</td>\n",
       "    </tr>\n",
       "    <tr>\n",
       "      <td>CHN</td>\n",
       "      <td>39835418773.00</td>\n",
       "    </tr>\n",
       "    <tr>\n",
       "      <td>GBR</td>\n",
       "      <td>20245627416.00</td>\n",
       "    </tr>\n",
       "    <tr>\n",
       "      <td>IND</td>\n",
       "      <td>14391858718.00</td>\n",
       "    </tr>\n",
       "    <tr>\n",
       "      <td>CAN</td>\n",
       "      <td>9583332317.00</td>\n",
       "    </tr>\n",
       "  </tbody>\n",
       "</table>\n",
       "</div>"
      ],
      "text/plain": [
       "              raised_amount_usd\n",
       "country_code                   \n",
       "USA             422510842796.00\n",
       "CHN              39835418773.00\n",
       "GBR              20245627416.00\n",
       "IND              14391858718.00\n",
       "CAN               9583332317.00"
      ]
     },
     "execution_count": 141,
     "metadata": {},
     "output_type": "execute_result"
    }
   ],
   "source": [
    "#creating the top9 dataframe sorted based on the raised_amount_usd (descending) and grouped by country_code\n",
    "top9 = master_frame[['raised_amount_usd','country_code']].groupby('country_code').sum().sort_values(by = ['raised_amount_usd'], ascending = False).head(9)\n",
    "\n",
    "top9.head()"
   ]
  },
  {
   "cell_type": "code",
   "execution_count": 142,
   "metadata": {},
   "outputs": [],
   "source": [
    "#shortlisting the top3 English speaking countries\n",
    "#As per the wikipedia page, we shortlist the top 3 English speaking countries as - USA, GBR and IND"
   ]
  },
  {
   "cell_type": "code",
   "execution_count": 143,
   "metadata": {},
   "outputs": [],
   "source": [
    "#updating the master_frame with the shortlisted top 3 English speaking countries\n",
    "master_frame = master_frame[master_frame['country_code'].isin(['USA', 'GBR', 'IND'])]"
   ]
  },
  {
   "cell_type": "code",
   "execution_count": 144,
   "metadata": {},
   "outputs": [],
   "source": [
    "#Removing null values from category_list\n",
    "master_frame = master_frame[pd.notnull(master_frame['category_list'])]"
   ]
  },
  {
   "cell_type": "code",
   "execution_count": 145,
   "metadata": {},
   "outputs": [],
   "source": [
    "#Creating the 'primary_sector' column\n",
    "master_frame['primary_sector'] = master_frame.apply(lambda row: row['category_list'].split('|')[0], axis=1)"
   ]
  },
  {
   "cell_type": "code",
   "execution_count": 146,
   "metadata": {},
   "outputs": [],
   "source": [
    "#loading and working on the mapping.csv file\n",
    "\n",
    "sector_mapping = pd.read_csv(\"mapping.csv\", encoding = 'ISO-8859-1')\n",
    "\n",
    "#Found out that the category_list values have '0' instead of 'na'. Need to correct the error.\n",
    "sector_mapping.category_list.unique()\n",
    "\n",
    "#Correcting the 0 and na error\n",
    "sector_mapping = sector_mapping.replace(regex='^0',value='Na')\n",
    "sector_mapping = sector_mapping.replace(regex='0',value='na')\n",
    "sector_mapping = sector_mapping.replace(regex = \"2.na\",value='2.0')\n",
    "\n",
    "sector_mapping = sector_mapping.melt(id_vars=\"category_list\",var_name=\"master_category\")\n",
    "\n",
    "# Removing the rows with 0 values as you are interested in only rows with value=1\n",
    "sector_mapping = sector_mapping.loc[~(sector_mapping[\"value\"]==0) ]\n",
    "sector_mapping = sector_mapping.drop(columns=\"value\")\n"
   ]
  },
  {
   "cell_type": "code",
   "execution_count": 147,
   "metadata": {},
   "outputs": [
    {
     "data": {
      "text/html": [
       "<div>\n",
       "<style scoped>\n",
       "    .dataframe tbody tr th:only-of-type {\n",
       "        vertical-align: middle;\n",
       "    }\n",
       "\n",
       "    .dataframe tbody tr th {\n",
       "        vertical-align: top;\n",
       "    }\n",
       "\n",
       "    .dataframe thead th {\n",
       "        text-align: right;\n",
       "    }\n",
       "</style>\n",
       "<table border=\"1\" class=\"dataframe\">\n",
       "  <thead>\n",
       "    <tr style=\"text-align: right;\">\n",
       "      <th></th>\n",
       "      <th>company_permalink</th>\n",
       "      <th>funding_round_permalink</th>\n",
       "      <th>funding_round_type</th>\n",
       "      <th>funding_round_code</th>\n",
       "      <th>funded_at</th>\n",
       "      <th>raised_amount_usd</th>\n",
       "      <th>permalink</th>\n",
       "      <th>name</th>\n",
       "      <th>homepage_url</th>\n",
       "      <th>category_list</th>\n",
       "      <th>status</th>\n",
       "      <th>country_code</th>\n",
       "      <th>state_code</th>\n",
       "      <th>region</th>\n",
       "      <th>city</th>\n",
       "      <th>founded_at</th>\n",
       "      <th>primary_sector</th>\n",
       "      <th>main_sector</th>\n",
       "    </tr>\n",
       "  </thead>\n",
       "  <tbody>\n",
       "    <tr>\n",
       "      <td>0</td>\n",
       "      <td>/organization/-fame</td>\n",
       "      <td>/funding-round/9a01d05418af9f794eebff7ace91f638</td>\n",
       "      <td>venture</td>\n",
       "      <td>B</td>\n",
       "      <td>05-01-2015</td>\n",
       "      <td>10000000.00</td>\n",
       "      <td>/organization/-fame</td>\n",
       "      <td>#fame</td>\n",
       "      <td>http://livfame.com</td>\n",
       "      <td>Media</td>\n",
       "      <td>operating</td>\n",
       "      <td>IND</td>\n",
       "      <td>16</td>\n",
       "      <td>Mumbai</td>\n",
       "      <td>Mumbai</td>\n",
       "      <td>NaN</td>\n",
       "      <td>Media</td>\n",
       "      <td>Entertainment</td>\n",
       "    </tr>\n",
       "    <tr>\n",
       "      <td>10</td>\n",
       "      <td>/organization/0xdata</td>\n",
       "      <td>/funding-round/3bb2ee4a2d89251a10aaa735b1180e44</td>\n",
       "      <td>venture</td>\n",
       "      <td>B</td>\n",
       "      <td>09-11-2015</td>\n",
       "      <td>20000000.00</td>\n",
       "      <td>/organization/0xdata</td>\n",
       "      <td>H2O.ai</td>\n",
       "      <td>http://h2o.ai/</td>\n",
       "      <td>Analytics</td>\n",
       "      <td>operating</td>\n",
       "      <td>USA</td>\n",
       "      <td>CA</td>\n",
       "      <td>SF Bay Area</td>\n",
       "      <td>Mountain View</td>\n",
       "      <td>01-01-2011</td>\n",
       "      <td>Analytics</td>\n",
       "      <td>Social, Finance, Analytics, Advertising</td>\n",
       "    </tr>\n",
       "    <tr>\n",
       "      <td>11</td>\n",
       "      <td>/organization/0xdata</td>\n",
       "      <td>/funding-round/ae2a174c06517c2394aed45006322a7e</td>\n",
       "      <td>venture</td>\n",
       "      <td>NaN</td>\n",
       "      <td>03-01-2013</td>\n",
       "      <td>1700000.00</td>\n",
       "      <td>/organization/0xdata</td>\n",
       "      <td>H2O.ai</td>\n",
       "      <td>http://h2o.ai/</td>\n",
       "      <td>Analytics</td>\n",
       "      <td>operating</td>\n",
       "      <td>USA</td>\n",
       "      <td>CA</td>\n",
       "      <td>SF Bay Area</td>\n",
       "      <td>Mountain View</td>\n",
       "      <td>01-01-2011</td>\n",
       "      <td>Analytics</td>\n",
       "      <td>Social, Finance, Analytics, Advertising</td>\n",
       "    </tr>\n",
       "    <tr>\n",
       "      <td>12</td>\n",
       "      <td>/organization/0xdata</td>\n",
       "      <td>/funding-round/e1cfcbe1bdf4c70277c5f29a3482f24e</td>\n",
       "      <td>venture</td>\n",
       "      <td>A</td>\n",
       "      <td>19-07-2014</td>\n",
       "      <td>8900000.00</td>\n",
       "      <td>/organization/0xdata</td>\n",
       "      <td>H2O.ai</td>\n",
       "      <td>http://h2o.ai/</td>\n",
       "      <td>Analytics</td>\n",
       "      <td>operating</td>\n",
       "      <td>USA</td>\n",
       "      <td>CA</td>\n",
       "      <td>SF Bay Area</td>\n",
       "      <td>Mountain View</td>\n",
       "      <td>01-01-2011</td>\n",
       "      <td>Analytics</td>\n",
       "      <td>Social, Finance, Analytics, Advertising</td>\n",
       "    </tr>\n",
       "    <tr>\n",
       "      <td>22</td>\n",
       "      <td>/organization/1-mainstream</td>\n",
       "      <td>/funding-round/b952cbaf401f310927430c97b68162ea</td>\n",
       "      <td>venture</td>\n",
       "      <td>NaN</td>\n",
       "      <td>17-03-2015</td>\n",
       "      <td>5000000.00</td>\n",
       "      <td>/organization/1-mainstream</td>\n",
       "      <td>1 Mainstream</td>\n",
       "      <td>http://www.1mainstream.com</td>\n",
       "      <td>Apps|Cable|Distribution|Software</td>\n",
       "      <td>acquired</td>\n",
       "      <td>USA</td>\n",
       "      <td>CA</td>\n",
       "      <td>SF Bay Area</td>\n",
       "      <td>Cupertino</td>\n",
       "      <td>01-03-2012</td>\n",
       "      <td>Apps</td>\n",
       "      <td>News, Search and Messaging</td>\n",
       "    </tr>\n",
       "  </tbody>\n",
       "</table>\n",
       "</div>"
      ],
      "text/plain": [
       "             company_permalink  \\\n",
       "0          /organization/-fame   \n",
       "10        /organization/0xdata   \n",
       "11        /organization/0xdata   \n",
       "12        /organization/0xdata   \n",
       "22  /organization/1-mainstream   \n",
       "\n",
       "                            funding_round_permalink funding_round_type  \\\n",
       "0   /funding-round/9a01d05418af9f794eebff7ace91f638            venture   \n",
       "10  /funding-round/3bb2ee4a2d89251a10aaa735b1180e44            venture   \n",
       "11  /funding-round/ae2a174c06517c2394aed45006322a7e            venture   \n",
       "12  /funding-round/e1cfcbe1bdf4c70277c5f29a3482f24e            venture   \n",
       "22  /funding-round/b952cbaf401f310927430c97b68162ea            venture   \n",
       "\n",
       "   funding_round_code   funded_at  raised_amount_usd  \\\n",
       "0                   B  05-01-2015        10000000.00   \n",
       "10                  B  09-11-2015        20000000.00   \n",
       "11                NaN  03-01-2013         1700000.00   \n",
       "12                  A  19-07-2014         8900000.00   \n",
       "22                NaN  17-03-2015         5000000.00   \n",
       "\n",
       "                     permalink          name                homepage_url  \\\n",
       "0          /organization/-fame         #fame          http://livfame.com   \n",
       "10        /organization/0xdata        H2O.ai              http://h2o.ai/   \n",
       "11        /organization/0xdata        H2O.ai              http://h2o.ai/   \n",
       "12        /organization/0xdata        H2O.ai              http://h2o.ai/   \n",
       "22  /organization/1-mainstream  1 Mainstream  http://www.1mainstream.com   \n",
       "\n",
       "                       category_list     status country_code state_code  \\\n",
       "0                              Media  operating          IND         16   \n",
       "10                         Analytics  operating          USA         CA   \n",
       "11                         Analytics  operating          USA         CA   \n",
       "12                         Analytics  operating          USA         CA   \n",
       "22  Apps|Cable|Distribution|Software   acquired          USA         CA   \n",
       "\n",
       "         region           city  founded_at primary_sector  \\\n",
       "0        Mumbai         Mumbai         NaN          Media   \n",
       "10  SF Bay Area  Mountain View  01-01-2011      Analytics   \n",
       "11  SF Bay Area  Mountain View  01-01-2011      Analytics   \n",
       "12  SF Bay Area  Mountain View  01-01-2011      Analytics   \n",
       "22  SF Bay Area      Cupertino  01-03-2012           Apps   \n",
       "\n",
       "                                main_sector  \n",
       "0                             Entertainment  \n",
       "10  Social, Finance, Analytics, Advertising  \n",
       "11  Social, Finance, Analytics, Advertising  \n",
       "12  Social, Finance, Analytics, Advertising  \n",
       "22               News, Search and Messaging  "
      ]
     },
     "execution_count": 147,
     "metadata": {},
     "output_type": "execute_result"
    }
   ],
   "source": [
    "#building the main_sector column in master_frame by mapping from the sector_mapping dataframe\n",
    "master_frame['main_sector'] = master_frame['primary_sector'].map(sector_mapping.set_index('category_list')['master_category'])\n",
    "master_frame.head()"
   ]
  },
  {
   "cell_type": "code",
   "execution_count": 148,
   "metadata": {},
   "outputs": [],
   "source": [
    "#Removing rows with null values from main_sector\n",
    "master_frame = master_frame[pd.notnull(master_frame['main_sector'])]"
   ]
  },
  {
   "cell_type": "code",
   "execution_count": 149,
   "metadata": {},
   "outputs": [],
   "source": [
    "#creating D1\n",
    "D1 = master_frame[(master_frame['country_code'] == \"USA\") & (master_frame['raised_amount_usd'] >= 5000000) & (master_frame['raised_amount_usd'] <= 15000000)]\n",
    "\n",
    "#creating D2\n",
    "D2 = master_frame[(master_frame['country_code'] == \"GBR\") & (master_frame['raised_amount_usd'] >= 5000000) & (master_frame['raised_amount_usd'] <= 15000000)]\n",
    "\n",
    "#creating D3\n",
    "D3 = master_frame[(master_frame['country_code'] == \"IND\") & (master_frame['raised_amount_usd'] >= 5000000) & (master_frame['raised_amount_usd'] <= 15000000)]"
   ]
  },
  {
   "cell_type": "code",
   "execution_count": 150,
   "metadata": {},
   "outputs": [
    {
     "name": "stderr",
     "output_type": "stream",
     "text": [
      "/Users/ankurdhamija/opt/anaconda3/lib/python3.7/site-packages/ipykernel_launcher.py:2: SettingWithCopyWarning: \n",
      "A value is trying to be set on a copy of a slice from a DataFrame.\n",
      "Try using .loc[row_indexer,col_indexer] = value instead\n",
      "\n",
      "See the caveats in the documentation: http://pandas.pydata.org/pandas-docs/stable/user_guide/indexing.html#returning-a-view-versus-a-copy\n",
      "  \n",
      "/Users/ankurdhamija/opt/anaconda3/lib/python3.7/site-packages/ipykernel_launcher.py:3: SettingWithCopyWarning: \n",
      "A value is trying to be set on a copy of a slice from a DataFrame.\n",
      "Try using .loc[row_indexer,col_indexer] = value instead\n",
      "\n",
      "See the caveats in the documentation: http://pandas.pydata.org/pandas-docs/stable/user_guide/indexing.html#returning-a-view-versus-a-copy\n",
      "  This is separate from the ipykernel package so we can avoid doing imports until\n"
     ]
    }
   ],
   "source": [
    "#creating D1 total_count and sum for investments by sector\n",
    "D1['total_count'] = D1.apply(lambda row: D1.loc[D1.main_sector == row['main_sector'], \"main_sector\"].count(), axis=1)\n",
    "D1['sum'] = D1.groupby('main_sector')['raised_amount_usd'].transform('sum')"
   ]
  },
  {
   "cell_type": "code",
   "execution_count": 151,
   "metadata": {},
   "outputs": [
    {
     "name": "stderr",
     "output_type": "stream",
     "text": [
      "/Users/ankurdhamija/opt/anaconda3/lib/python3.7/site-packages/ipykernel_launcher.py:2: SettingWithCopyWarning: \n",
      "A value is trying to be set on a copy of a slice from a DataFrame.\n",
      "Try using .loc[row_indexer,col_indexer] = value instead\n",
      "\n",
      "See the caveats in the documentation: http://pandas.pydata.org/pandas-docs/stable/user_guide/indexing.html#returning-a-view-versus-a-copy\n",
      "  \n",
      "/Users/ankurdhamija/opt/anaconda3/lib/python3.7/site-packages/ipykernel_launcher.py:3: SettingWithCopyWarning: \n",
      "A value is trying to be set on a copy of a slice from a DataFrame.\n",
      "Try using .loc[row_indexer,col_indexer] = value instead\n",
      "\n",
      "See the caveats in the documentation: http://pandas.pydata.org/pandas-docs/stable/user_guide/indexing.html#returning-a-view-versus-a-copy\n",
      "  This is separate from the ipykernel package so we can avoid doing imports until\n"
     ]
    }
   ],
   "source": [
    "#creating D2 total_count and sum for investments by sector\n",
    "D2['total_count'] = D2.apply(lambda row: D2.loc[D2.main_sector == row['main_sector'], \"main_sector\"].count(), axis=1)\n",
    "D2['sum'] = D2.groupby('main_sector')['raised_amount_usd'].transform('sum')"
   ]
  },
  {
   "cell_type": "code",
   "execution_count": 152,
   "metadata": {},
   "outputs": [
    {
     "name": "stderr",
     "output_type": "stream",
     "text": [
      "/Users/ankurdhamija/opt/anaconda3/lib/python3.7/site-packages/ipykernel_launcher.py:2: SettingWithCopyWarning: \n",
      "A value is trying to be set on a copy of a slice from a DataFrame.\n",
      "Try using .loc[row_indexer,col_indexer] = value instead\n",
      "\n",
      "See the caveats in the documentation: http://pandas.pydata.org/pandas-docs/stable/user_guide/indexing.html#returning-a-view-versus-a-copy\n",
      "  \n",
      "/Users/ankurdhamija/opt/anaconda3/lib/python3.7/site-packages/ipykernel_launcher.py:3: SettingWithCopyWarning: \n",
      "A value is trying to be set on a copy of a slice from a DataFrame.\n",
      "Try using .loc[row_indexer,col_indexer] = value instead\n",
      "\n",
      "See the caveats in the documentation: http://pandas.pydata.org/pandas-docs/stable/user_guide/indexing.html#returning-a-view-versus-a-copy\n",
      "  This is separate from the ipykernel package so we can avoid doing imports until\n"
     ]
    }
   ],
   "source": [
    "#creating D3 total_count and sum for investments by sector\n",
    "D3['total_count'] = D3.apply(lambda row: D3.loc[D3.main_sector == row['main_sector'], \"main_sector\"].count(), axis=1)\n",
    "D3['sum'] = D3.groupby('main_sector')['raised_amount_usd'].transform('sum')"
   ]
  },
  {
   "cell_type": "code",
   "execution_count": 153,
   "metadata": {},
   "outputs": [
    {
     "data": {
      "text/plain": [
       "12063"
      ]
     },
     "execution_count": 153,
     "metadata": {},
     "output_type": "execute_result"
    }
   ],
   "source": [
    "#total count of investments - D1\n",
    "D1.shape[0]"
   ]
  },
  {
   "cell_type": "code",
   "execution_count": 154,
   "metadata": {},
   "outputs": [
    {
     "data": {
      "text/plain": [
       "621"
      ]
     },
     "execution_count": 154,
     "metadata": {},
     "output_type": "execute_result"
    }
   ],
   "source": [
    "#total count of investments - D2\n",
    "D2.shape[0]"
   ]
  },
  {
   "cell_type": "code",
   "execution_count": 155,
   "metadata": {},
   "outputs": [
    {
     "data": {
      "text/plain": [
       "328"
      ]
     },
     "execution_count": 155,
     "metadata": {},
     "output_type": "execute_result"
    }
   ],
   "source": [
    "#total count of investments - D3\n",
    "D3.shape[0]"
   ]
  },
  {
   "cell_type": "code",
   "execution_count": 156,
   "metadata": {},
   "outputs": [
    {
     "data": {
      "text/plain": [
       "107757097294.0"
      ]
     },
     "execution_count": 156,
     "metadata": {},
     "output_type": "execute_result"
    }
   ],
   "source": [
    "#total amount of investment - D1\n",
    "D1[['raised_amount_usd']].sum()[0]"
   ]
  },
  {
   "cell_type": "code",
   "execution_count": 157,
   "metadata": {},
   "outputs": [
    {
     "data": {
      "text/plain": [
       "5379078691.0"
      ]
     },
     "execution_count": 157,
     "metadata": {},
     "output_type": "execute_result"
    }
   ],
   "source": [
    "#total amount of investment - D2\n",
    "D2[['raised_amount_usd']].sum()[0]"
   ]
  },
  {
   "cell_type": "code",
   "execution_count": 158,
   "metadata": {},
   "outputs": [
    {
     "data": {
      "text/plain": [
       "2949543602.0"
      ]
     },
     "execution_count": 158,
     "metadata": {},
     "output_type": "execute_result"
    }
   ],
   "source": [
    "#total amount of investment - D3\n",
    "D3[['raised_amount_usd']].sum()[0]"
   ]
  },
  {
   "cell_type": "code",
   "execution_count": 159,
   "metadata": {},
   "outputs": [
    {
     "name": "stdout",
     "output_type": "stream",
     "text": [
      "Top Sector for country D1: Others\n",
      "Second sector for country D1: Social, Finance, Analytics, Advertising\n",
      "Third sector for country D1:  Cleantech / Semiconductors\n",
      "Number of investments in top sector:  2950\n",
      "Number of investments in second sector:  2714\n",
      "Number of investments in third sector:  2350\n",
      "1stdibs\n",
      "Admeld\n"
     ]
    }
   ],
   "source": [
    "#top sector based on count of investments - D1\n",
    "D1 = D1.sort_values(by = ['total_count','raised_amount_usd'], ascending = (False, False)).reset_index(drop = True)\n",
    "\n",
    "D1_unique = D1.drop_duplicates('main_sector')\n",
    "D1_unique = D1_unique.sort_values(by = ['total_count'], ascending = (False)).reset_index(drop = True)\n",
    "D1_unique.head()\n",
    "\n",
    "first_sector_D1 = D1_unique.at[0,\"main_sector\"]\n",
    "second_sector_D1 = D1_unique.at[1,\"main_sector\"]\n",
    "third_sector_D1 = D1_unique.at[2,\"main_sector\"]\n",
    "\n",
    "print(\"Top Sector for country D1:\", first_sector_D1)\n",
    "print(\"Second sector for country D1:\", second_sector_D1)\n",
    "print(\"Third sector for country D1: \", third_sector_D1)\n",
    "\n",
    "#number of investments by sector\n",
    "first_sector_D1_inv_count = D1[D1.main_sector == first_sector_D1].reset_index().loc[0,\"total_count\"]\n",
    "second_sector_D1_inv_count = D1[D1.main_sector == second_sector_D1].reset_index().loc[0,\"total_count\"]\n",
    "third_sector_D1_inv_count = D1[D1.main_sector == third_sector_D1].reset_index().loc[0,\"total_count\"]\n",
    "\n",
    "print(\"Number of investments in top sector: \", first_sector_D1_inv_count)\n",
    "print(\"Number of investments in second sector: \", second_sector_D1_inv_count)\n",
    "print(\"Number of investments in third sector: \", third_sector_D1_inv_count)\n",
    "\n",
    "#companies with highest amount of funding\n",
    "print(D1[D1.main_sector == first_sector_D1].sort_values(by = ['raised_amount_usd'], ascending = (False)).reset_index().loc[0,\"name\"])\n",
    "print(D1[D1.main_sector == second_sector_D1].sort_values(by = ['raised_amount_usd'], ascending = (False)).reset_index().loc[0,\"name\"])\n",
    "C1 = D1.loc[0,[\"country_code\"]].country_code"
   ]
  },
  {
   "cell_type": "code",
   "execution_count": 160,
   "metadata": {},
   "outputs": [
    {
     "name": "stdout",
     "output_type": "stream",
     "text": [
      "Top Sector for country D2: Others\n",
      "Second sector for country D2: Social, Finance, Analytics, Advertising\n",
      "Third sector for country D2:  Cleantech / Semiconductors\n",
      "Number of investments in top sector:  147\n",
      "Number of investments in second sector:  133\n",
      "Number of investments in third sector:  130\n",
      "Azure Solutions\n",
      "myThings\n"
     ]
    }
   ],
   "source": [
    "#top sector based on count of investments - D2\n",
    "D2.head()\n",
    "\n",
    "D2 = D2.sort_values(by = ['total_count','raised_amount_usd'], ascending = (False, False)).reset_index(drop = True)\n",
    "\n",
    "D2_unique = D2.drop_duplicates('main_sector')\n",
    "D2_unique = D2_unique.sort_values(by = ['total_count'], ascending = (False)).reset_index(drop = True)\n",
    "D2_unique.head()\n",
    "\n",
    "first_sector_D2 = D2_unique.at[0,\"main_sector\"]\n",
    "second_sector_D2 = D2_unique.at[1,\"main_sector\"]\n",
    "third_sector_D2 = D2_unique.at[2,\"main_sector\"]\n",
    "\n",
    "print(\"Top Sector for country D2:\", first_sector_D2)\n",
    "print(\"Second sector for country D2:\", second_sector_D2)\n",
    "print(\"Third sector for country D2: \", third_sector_D2)\n",
    "\n",
    "#number of investments by sector\n",
    "first_sector_D2_inv_count = D2[D2.main_sector == first_sector_D2].reset_index().loc[0,\"total_count\"]\n",
    "second_sector_D2_inv_count = D2[D2.main_sector == second_sector_D2].reset_index().loc[0,\"total_count\"]\n",
    "third_sector_D2_inv_count = D2[D2.main_sector == third_sector_D2].reset_index().loc[0,\"total_count\"]\n",
    "\n",
    "print(\"Number of investments in top sector: \", first_sector_D2_inv_count)\n",
    "print(\"Number of investments in second sector: \", second_sector_D2_inv_count)\n",
    "print(\"Number of investments in third sector: \", third_sector_D2_inv_count)\n",
    "\n",
    "\n",
    "#companies with highest amount of funding\n",
    "print(D2[D2.main_sector == first_sector_D2].sort_values(by = ['raised_amount_usd'], ascending = (False)).reset_index().loc[0,\"name\"])\n",
    "print(D2[D2.main_sector == second_sector_D2].sort_values(by = ['raised_amount_usd'], ascending = (False)).reset_index().loc[0,\"name\"])\n",
    "C2 = D2.loc[0,[\"country_code\"]].country_code"
   ]
  },
  {
   "cell_type": "code",
   "execution_count": 161,
   "metadata": {},
   "outputs": [
    {
     "name": "stdout",
     "output_type": "stream",
     "text": [
      "Top Sector for country D3: Others\n",
      "Second sector for country D3: Social, Finance, Analytics, Advertising\n",
      "Third sector for country D3:  News, Search and Messaging\n",
      "Number of investments in top sector:  110\n",
      "Number of investments in second sector:  60\n",
      "Number of investments in third sector:  52\n",
      "CaratLane\n",
      "ApnaPaisa\n",
      "IND\n"
     ]
    }
   ],
   "source": [
    "#top sector based on count of investments - D3\n",
    "D3 = D3.sort_values(by = ['total_count','raised_amount_usd'], ascending = (False, False)).reset_index(drop = True)\n",
    "\n",
    "D3_unique = D3.drop_duplicates('main_sector')\n",
    "D3_unique = D3_unique.sort_values(by = ['total_count'], ascending = (False)).reset_index(drop = True)\n",
    "D3_unique.head()\n",
    "\n",
    "first_sector_D3 = D3_unique.at[0,\"main_sector\"]\n",
    "second_sector_D3 = D3_unique.at[1,\"main_sector\"]\n",
    "third_sector_D3 = D3_unique.at[2,\"main_sector\"]\n",
    "\n",
    "print(\"Top Sector for country D3:\", first_sector_D3)\n",
    "print(\"Second sector for country D3:\", second_sector_D3)\n",
    "print(\"Third sector for country D3: \", third_sector_D3)\n",
    "\n",
    "#number of investments by sector\n",
    "first_sector_D3_inv_count = D3[D3.main_sector == first_sector_D3].reset_index().loc[0,\"total_count\"]\n",
    "second_sector_D3_inv_count = D3[D3.main_sector == second_sector_D3].reset_index().loc[0,\"total_count\"]\n",
    "third_sector_D3_inv_count = D3[D3.main_sector == third_sector_D3].reset_index().loc[0,\"total_count\"]\n",
    "\n",
    "print(\"Number of investments in top sector: \", first_sector_D3_inv_count)\n",
    "print(\"Number of investments in second sector: \", second_sector_D3_inv_count)\n",
    "print(\"Number of investments in third sector: \", third_sector_D3_inv_count)\n",
    "\n",
    "\n",
    "#companies with highest amount of funding\n",
    "print(D3[D3.main_sector == first_sector_D3].sort_values(by = ['raised_amount_usd'], ascending = (False)).reset_index().loc[0,\"name\"])\n",
    "print(D3[D3.main_sector == second_sector_D3].sort_values(by = ['raised_amount_usd'], ascending = (False)).reset_index().loc[0,\"name\"])\n",
    "print(D3.loc[0,[\"country_code\"]].country_code)\n",
    "\n",
    "C3 = D3.loc[0,[\"country_code\"]].country_code\n"
   ]
  },
  {
   "cell_type": "code",
   "execution_count": 162,
   "metadata": {},
   "outputs": [
    {
     "data": {
      "image/png": "[encoded data removed]",
      "text/plain": [
       "<Figure size 1728x864 with 2 Axes>"
      ]
     },
     "metadata": {},
     "output_type": "display_data"
    }
   ],
   "source": [
    "plot_1 = pd.DataFrame({'investment_fraction': [ventureInvCount/totalInvCount, angelInvCount/totalInvCount, seedInvCount/totalInvCount, peInvCount/totalInvCount],\n",
    "                      'average_investment': [ventureAvg, angelAvg, seedAvg, peAvg],\n",
    "                       'investment_types': ['venture','angel','seed','private equity']\n",
    "                      })\n",
    "\n",
    "# subplot 1: Ratio of investment count across categories and total investment count\n",
    "plt.figure(figsize=(24, 12))\n",
    "plt.subplot(1, 2, 1)\n",
    "sns.barplot(x='investment_types', y='investment_fraction', data=plot_1)\n",
    "plt.title(\"Ratio of investment count across categories and total investment count\")\n",
    "\n",
    "# subplot 2: Average investment amount across categories\n",
    "plt.subplot(1, 2, 2)\n",
    "sns.barplot(x='investment_types', y='average_investment', data=plot_1)\n",
    "plt.title(\"Average investment amount across categories\")\n",
    "\n",
    "plt.show()\n"
   ]
  },
  {
   "cell_type": "code",
   "execution_count": 163,
   "metadata": {},
   "outputs": [
    {
     "data": {
      "image/png": "[encoded data removed]",
      "text/plain": [
       "<Figure size 576x576 with 1 Axes>"
      ]
     },
     "metadata": {},
     "output_type": "display_data"
    }
   ],
   "source": [
    "language = [\"English\", \"Non-English\", \"English\",\"English\",\"English\",\"Non-English\",\"English\",\"Non-English\",\"Non-English\"]\n",
    "top9[\"language\"] = language\n",
    "top9 = top9.reset_index()\n",
    "top9.head(9)\n",
    "\n",
    "plt.figure(figsize=(8,8))\n",
    "sns.barplot(x=\"country_code\", y=\"raised_amount_usd\", hue = 'language', data=top9)\n",
    "plt.title(\"Top 9 countries against the total amount of investments\")\n",
    "plt.show()"
   ]
  },
  {
   "cell_type": "code",
   "execution_count": 164,
   "metadata": {},
   "outputs": [
    {
     "data": {
      "text/plain": [
       "<function matplotlib.pyplot.show(*args, **kw)>"
      ]
     },
     "execution_count": 164,
     "metadata": {},
     "output_type": "execute_result"
    },
    {
     "data": {
      "image/png": "[encoded data removed]",
      "text/plain": [
       "<Figure size 576x576 with 1 Axes>"
      ]
     },
     "metadata": {},
     "output_type": "display_data"
    }
   ],
   "source": [
    "new_df = pd.DataFrame({'country_code': [C1,C1,C1,C2,C2,C2,C3,C3,C3],\n",
    "              'main_sector': [first_sector_D1, second_sector_D1, third_sector_D1, first_sector_D2, second_sector_D2, third_sector_D2, first_sector_D3, second_sector_D3, third_sector_D3],\n",
    "              'number_of_investment':[first_sector_D1_inv_count, second_sector_D1_inv_count, third_sector_D1_inv_count, first_sector_D2_inv_count, second_sector_D2_inv_count, third_sector_D2_inv_count, first_sector_D3_inv_count, second_sector_D3_inv_count, third_sector_D3_inv_count]})\n",
    "\n",
    "plt.figure(figsize=(8,8))\n",
    "sns.barplot(x=\"country_code\", y=\"number_of_investment\", hue = 'main_sector', data=new_df)\n",
    "plt.title(\"number of investments in the top 3 sectors of the top 3 countries\")\n",
    "plt.show"
   ]
  },
  {
   "cell_type": "code",
   "execution_count": null,
   "metadata": {},
   "outputs": [],
   "source": []
  }
 ],
 "metadata": {
  "kernelspec": {
   "display_name": "Python 3",
   "language": "python",
   "name": "python3"
  },
  "language_info": {
   "codemirror_mode": {
    "name": "ipython",
    "version": 3
   },
   "file_extension": ".py",
   "mimetype": "text/x-python",
   "name": "python",
   "nbconvert_exporter": "python",
   "pygments_lexer": "ipython3",
   "version": "3.7.4"
  }
 },
 "nbformat": 4,
 "nbformat_minor": 2
}
